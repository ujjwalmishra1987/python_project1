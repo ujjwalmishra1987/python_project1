{
 "cells": [
  {
   "cell_type": "code",
   "execution_count": 71,
   "metadata": {},
   "outputs": [],
   "source": [
    "import numpy as np\n",
    "import matplotlib.pyplot as plt\n",
    "import seaborn as sns\n",
    "import pandas as pd\n",
    "plt.style.use('ggplot')"
   ]
  },
  {
   "cell_type": "markdown",
   "metadata": {},
   "source": [
    "import os\n",
    "getwd = os.getcwd()\n",
    "getwd"
   ]
  },
  {
   "cell_type": "code",
   "execution_count": null,
   "metadata": {},
   "outputs": [],
   "source": [
    "%matplotlib inline\n",
    "\n",
    "x = [\"Python\",\"SQL\",\"M/C Learning\", \"Deep Learning\",\"R\",\"SAS\",\"MATLAB\"]\n",
    "y = [4,3.5,3,3,3,3,3]\n",
    "s = pd.Series(y,index=x)\n",
    "fig = plt.figure()\n",
    "ax = fig.add_subplot(1,1,1)\n",
    "s.plot(ax=ax,kind='barh')\n",
    "ax.set_xlabel(\"-----Ratings-----\",fontsize=12,color='g')\n",
    "ax.set_title(\"Skill Ratings\",color='b')\n",
    "for label in ax.get_xticklabels():\n",
    "    label.set_rotation(0)\n",
    "    label.set_color('b')\n",
    "for label in ax.get_yticklabels():\n",
    "    label.set_color('r')\n",
    "fig.savefig(\"skill_final.png\")\n",
    "plt.show()\n",
    "\n"
   ]
  },
  {
   "cell_type": "code",
   "execution_count": 80,
   "metadata": {},
   "outputs": [
    {
     "data": {
      "image/png": "[encoded data removed]",
      "text/plain": [
       "<Figure size 432x288 with 1 Axes>"
      ]
     },
     "metadata": {},
     "output_type": "display_data"
    }
   ],
   "source": [
    "sns.barplot(x=[4,3.5,3,3], y=[\"Programming\",\"SQL\",\"MACHINE LEARNING\", \"DEEP LEARNING\"])\n",
    "plt.show()"
   ]
  },
  {
   "cell_type": "markdown",
   "metadata": {},
   "source": [
    "## UJJWAL MISHRA"
   ]
  },
  {
   "cell_type": "code",
   "execution_count": null,
   "metadata": {},
   "outputs": [],
   "source": []
  }
 ],
 "metadata": {
  "celltoolbar": "Slideshow",
  "kernelspec": {
   "display_name": "Python 3",
   "language": "python",
   "name": "python3"
  },
  "language_info": {
   "codemirror_mode": {
    "name": "ipython",
    "version": 3
   },
   "file_extension": ".py",
   "mimetype": "text/x-python",
   "name": "python",
   "nbconvert_exporter": "python",
   "pygments_lexer": "ipython3",
   "version": "3.6.5"
  }
 },
 "nbformat": 4,
 "nbformat_minor": 2
}
